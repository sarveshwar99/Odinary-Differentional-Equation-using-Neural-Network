{
  "nbformat": 4,
  "nbformat_minor": 0,
  "metadata": {
    "colab": {
      "name": "second order ode.ipynb",
      "provenance": []
    },
    "kernelspec": {
      "name": "python3",
      "display_name": "Python 3"
    },
    "accelerator": "GPU"
  },
  "cells": [
    {
      "cell_type": "code",
      "metadata": {
        "id": "elID8Gg1BwuE",
        "colab_type": "code",
        "colab": {}
      },
      "source": [
        "import time\n",
        "import autograd.numpy as np \n",
        "import matplotlib.pyplot as plt \n",
        "from autograd import grad"
      ],
      "execution_count": 0,
      "outputs": []
    },
    {
      "cell_type": "code",
      "metadata": {
        "id": "TsmqnVNqCGkR",
        "colab_type": "code",
        "colab": {}
      },
      "source": [
        "import autograd.numpy.random as npr"
      ],
      "execution_count": 0,
      "outputs": []
    },
    {
      "cell_type": "code",
      "metadata": {
        "id": "YfeWLtHCCMIz",
        "colab_type": "code",
        "colab": {}
      },
      "source": [
        "nx = 10\n",
        "dx = 1. / nx"
      ],
      "execution_count": 0,
      "outputs": []
    },
    {
      "cell_type": "code",
      "metadata": {
        "id": "C_JhPTRVCR4n",
        "colab_type": "code",
        "colab": {}
      },
      "source": [
        "#d2(psy)/dx2 = f(x, dpsy/dx, psy)\n",
        "def f(x, psy, dpsy):\n",
        "   return -1./5. * np.exp(-x/5.) * np.cos(x) - 1./5. * dpsy - psy\n",
        "\n",
        "    \n",
        "#Analytical solution of current problem\n",
        "def psy_analytic(x):\n",
        "  return np.exp(-x/5.) * np.sin(x)\n",
        "\n"
      ],
      "execution_count": 0,
      "outputs": []
    },
    {
      "cell_type": "code",
      "metadata": {
        "id": "um8R8wU0Ck27",
        "colab_type": "code",
        "colab": {}
      },
      "source": [
        "x_space = np.linspace(0, 2, nx)    \n",
        "y_space = psy_analytic(x_space)"
      ],
      "execution_count": 0,
      "outputs": []
    },
    {
      "cell_type": "code",
      "metadata": {
        "id": "tnnga1ayC427",
        "colab_type": "code",
        "colab": {}
      },
      "source": [
        "def sigmoid(x):\n",
        "    return 1. / (1. + np.exp(-x))\n",
        "\n",
        "def neural_network(W, x):\n",
        "    a1 = sigmoid(np.dot(x, W[0]))\n",
        "    return np.dot(a1, W[1])\n",
        "\n",
        "def neural_network_x(x):\n",
        "    a1 = sigmoid(np.dot(x, W[0]))\n",
        "    return np.dot(a1, W[1])\n",
        "\n",
        "def psy_trial(xi, net_out):\n",
        "    return xi + xi**2 * net_out"
      ],
      "execution_count": 0,
      "outputs": []
    },
    {
      "cell_type": "code",
      "metadata": {
        "id": "x7zhxE7QC8d9",
        "colab_type": "code",
        "colab": {}
      },
      "source": [
        "psy_grad = grad(psy_trial)\n",
        "psy_grad2 = grad(psy_grad)"
      ],
      "execution_count": 0,
      "outputs": []
    },
    {
      "cell_type": "code",
      "metadata": {
        "id": "7aPREDhfDAak",
        "colab_type": "code",
        "colab": {}
      },
      "source": [
        "def loss_function(W, x):\n",
        "    loss_sum = 0.\n",
        "    \n",
        "    for xi in x:\n",
        "        net_out = neural_network(W, xi)[0][0]\n",
        "\n",
        "        net_out_d = grad(neural_network_x)(xi)\n",
        "        net_out_dd = grad(grad(neural_network_x))(xi)\n",
        "        \n",
        "        psy_t = psy_trial(xi, net_out)\n",
        "        \n",
        "        gradient_of_trial = psy_grad(xi, net_out)\n",
        "        second_gradient_of_trial = psy_grad2(xi, net_out)\n",
        "        \n",
        "        func = f(xi, psy_t, gradient_of_trial) # right part function\n",
        "        \n",
        "        err_sqr = (second_gradient_of_trial - func)**2\n",
        "        loss_sum += err_sqr\n",
        "        \n",
        "    return loss_sum"
      ],
      "execution_count": 0,
      "outputs": []
    },
    {
      "cell_type": "code",
      "metadata": {
        "id": "bPhbcodzDDa0",
        "colab_type": "code",
        "colab": {}
      },
      "source": [
        "W = [npr.randn(1, 10), npr.randn(10, 1)]\n",
        "lmb = 0.001"
      ],
      "execution_count": 0,
      "outputs": []
    },
    {
      "cell_type": "code",
      "metadata": {
        "id": "cJAZ1NEmDmdX",
        "colab_type": "code",
        "colab": {}
      },
      "source": [
        "#weigt update\n",
        "for i in range(100):\n",
        "    loss_grad =  grad(loss_function)(W, x_space)\n",
        "\n",
        "    W[0] = W[0] - lmb * loss_grad[0]\n",
        "    W[1] = W[1] - lmb * loss_grad[1]"
      ],
      "execution_count": 0,
      "outputs": []
    },
    {
      "cell_type": "code",
      "metadata": {
        "id": "c2ar8slMDqca",
        "colab_type": "code",
        "colab": {
          "base_uri": "https://localhost:8080/",
          "height": 282
        },
        "outputId": "680fbdd4-83ca-4aa8-b768-bbb0cc8b2832"
      },
      "source": [
        "print(loss_function(W, x_space))\n",
        "res = [psy_trial(xi, neural_network(W, xi)[0][0]) for xi in x_space] \n",
        "\n",
        "\n",
        "plt.figure()\n",
        "plt.plot(x_space, y_space) \n",
        "plt.plot(x_space, res)\n",
        "plt.show()"
      ],
      "execution_count": 19,
      "outputs": [
        {
          "output_type": "stream",
          "text": [
            "0.060240672541369625\n"
          ],
          "name": "stdout"
        },
        {
          "output_type": "display_data",
          "data": {
            "image/png": "[encoded data removed]",
            "text/plain": [
              "<Figure size 432x288 with 1 Axes>"
            ]
          },
          "metadata": {
            "tags": [],
            "needs_background": "light"
          }
        }
      ]
    },
    {
      "cell_type": "code",
      "metadata": {
        "id": "sZXm2BTODwSS",
        "colab_type": "code",
        "colab": {}
      },
      "source": [
        ""
      ],
      "execution_count": 0,
      "outputs": []
    }
  ]
}